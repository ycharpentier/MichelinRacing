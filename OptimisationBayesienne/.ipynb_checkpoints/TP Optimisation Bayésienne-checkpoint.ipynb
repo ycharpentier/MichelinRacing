{
 "cells": [
  {
   "cell_type": "markdown",
   "id": "f43d55ec",
   "metadata": {},
   "source": [
    "L’exercice proposé ci-dessous est basé sur un problème de recalage de modèle à partir de mesures de rigidités transversales pour des enveloppes poids lourd. Les données sont mises à disposition dans les fichiers « 315 80 R 22.5.txt, 385 55 R 22.5.txt, 495 45 R 22.5.txt » avec 3 colonnes : \n",
    "- Charge (noté $Fz$) en Newton,\n",
    "- Pression (noté $P$) en Bar,\n",
    "- Rigidité (noté $Dz$) en N/°. \n",
    "\n",
    "Les coefficients à optimiser sont notés $a1, a2, a3, a4$ et $a5$. Le modèle à ajuster est le suivant :\n",
    "\n",
    "$ \\displaystyle Dz = (a1 \\times P + a2) \\times \\sin \\left(a3 \\times \\arctan{\\left(\\frac{Fz}{a4 \\times P + a5}\\right)} \\right)$\n",
    "\n",
    "Cet exercice est séparé en dex parties. La première consiste à résoudre le problème d'identification de paramètres en utilisant des outils classiques d'optimisation. La seconde vise à trouver les solutions via une approche d'optimisation bayesienne."
   ]
  },
  {
   "cell_type": "markdown",
   "id": "0d4cc4ac",
   "metadata": {},
   "source": [
    "## Identification par Optimisation Classique"
   ]
  },
  {
   "cell_type": "markdown",
   "id": "c4eb26a9",
   "metadata": {},
   "source": [
    "### Chargement des Données"
   ]
  },
  {
   "cell_type": "markdown",
   "id": "4583207d",
   "metadata": {},
   "source": [
    "Veuillez tout d'abord charger les mesures de rigidités de dérive contenues dans le fichier \" 315 80 R 22.5.txt\"."
   ]
  },
  {
   "cell_type": "code",
   "execution_count": null,
   "id": "81e91e9c",
   "metadata": {},
   "outputs": [],
   "source": [
    "import numpy as np\n",
    "import scipy as sp\n",
    "from scipy import linalg as LA\n",
    "from scipy.optimize import leastsq as LB\n",
    "import matplotlib.pyplot as plt\n",
    "\n",
    "%matplotlib notebook\n",
    "\n",
    "chemin = #Inscrire le chemin du fichier\"315 80 R 22.5.txt\"\n",
    "mat = np.loadtxt(chemin)\n",
    "z = mat[:,0]   # N\n",
    "p  = mat[:,1]   # Bar\n",
    "dz = mat[:,2]   # N/°"
   ]
  },
  {
   "cell_type": "markdown",
   "id": "56ac1290",
   "metadata": {},
   "source": [
    "Ces mesures correspondents à des valeurs de rigidités de dérive pour trois niveaux de pression 7, 8.5 et 9.5 bars. Chaque palier de pression comporte 7 points de mesure.\n",
    "Afficher les mesures $Dz(Fz)$ pour chaque palier de pression"
   ]
  },
  {
   "cell_type": "code",
   "execution_count": null,
   "id": "4c5ebd25",
   "metadata": {},
   "outputs": [],
   "source": [
    "# Affichage des Mesures \n",
    "\n"
   ]
  },
  {
   "cell_type": "markdown",
   "id": "986a1002",
   "metadata": {},
   "source": [
    "### Estimation des Valeurs Initiales"
   ]
  },
  {
   "cell_type": "markdown",
   "id": "55217bd7",
   "metadata": {},
   "source": [
    "L’exercice est un problème d’optimisation continue, non linéaire et sans contrainte. Il est donc nécessaire d'initialiser les paramètres afin de pouvoir lancer un algorithme d'optimisation type recherche linéaire ou région de confiance.\n",
    "\n",
    "Comment, à votre avis, peut-on essayer d’estimer les coefficients du modèle à partir des mesures ? Pour vous aider, n’oubliez pas que la fonction sinus est bornée. De plus, cadeau, je vous conseille d’approcher a3 par la valeur 2. Il vous reste seulement 4 petits coef à trouver…\n",
    "\n",
    "Second conseil, le modèle peut également s’écrire sous la forme suivante, idéale quand on connaît déjà $a1, a2$ et $a3$, avec quelques restrictions cependant sur le domaine de définition des fonctions $1/x$, $\\arctan$ et $\\arcsin$:\n",
    "\n",
    "$ \\displaystyle a4 \\times P + a5 = \\frac{Fz}{\\tan \\left(\\frac{1}{3} \\times \\arcsin\\left(\\frac{Dz}{a1 \\times P + a2} \\right) \\right)}$"
   ]
  },
  {
   "cell_type": "code",
   "execution_count": null,
   "id": "53cb51eb",
   "metadata": {},
   "outputs": [],
   "source": [
    "# Estimation initiale de a1 et a2\n",
    "\n",
    "\n",
    "# Estimation initiale de a4 et a5    \n",
    "\n"
   ]
  },
  {
   "cell_type": "markdown",
   "id": "597e24d9",
   "metadata": {},
   "source": [
    "Superposer les courbes de mesures et de prédictions obtenues avec l'initialisation trouvée. Que constatez-vous?"
   ]
  },
  {
   "cell_type": "code",
   "execution_count": null,
   "id": "cbbf4a16",
   "metadata": {},
   "outputs": [],
   "source": [
    "# Fonction permettant de simuler le modèle\n",
    "# Entrées: paramètres du modèle\n",
    "# Return: la valeur de Dz \n",
    "\n"
   ]
  },
  {
   "cell_type": "code",
   "execution_count": null,
   "id": "6cc6a2ee",
   "metadata": {},
   "outputs": [],
   "source": [
    "# Affichage de la superposition mesures/prédictions\n",
    "\n"
   ]
  },
  {
   "cell_type": "markdown",
   "id": "2657f9fd",
   "metadata": {},
   "source": [
    "### Fine Tuning des valeurs"
   ]
  },
  {
   "cell_type": "markdown",
   "id": "d67a5c38",
   "metadata": {},
   "source": [
    "Dans le but d'affiner les valeurs obtenues à l'issue de la phase d'initialisation, il est nécessaire de faire appel à un algorithme d'optimisation non linéaire.\n",
    "\n",
    "En l'occurence, il s'agit d'un problème de curve fitting. \n",
    "\n",
    "Quel critère est-il pertinent de considérer? \n",
    "\n",
    "Quel type d'algorithme peut-on mettre en oeuvre? \n",
    "\n",
    "Implémenter l'optimisation des valeurs des coefficients."
   ]
  },
  {
   "cell_type": "code",
   "execution_count": null,
   "id": "91ae5b43",
   "metadata": {},
   "outputs": [],
   "source": [
    "# Fonction permettant de calculer la fonction coût\n",
    "# Entrées: paramètres à optimiser\n",
    "# Return: la valeur du critère à optimiser \n",
    "\n"
   ]
  },
  {
   "cell_type": "code",
   "execution_count": null,
   "id": "f875c9a0",
   "metadata": {},
   "outputs": [],
   "source": [
    "# Optimisation des paramètres\n",
    "\n"
   ]
  },
  {
   "cell_type": "markdown",
   "id": "f6db7820",
   "metadata": {},
   "source": [
    "Superposer les courbes de mesures et de prédictions obtenues avec les valeurs finales trouvées. A-t-on améliorer la qualité de prédiction du modèle par rapport à la phase d'initialisation? Comment peut-on le quantifier?"
   ]
  },
  {
   "cell_type": "code",
   "execution_count": null,
   "id": "b6806dfa",
   "metadata": {},
   "outputs": [],
   "source": [
    "# Affichage de la superposition mesures/prédictions avec les nouvelles valeurs optimisées des paramètres\n"
   ]
  },
  {
   "cell_type": "markdown",
   "id": "5eb569bb",
   "metadata": {},
   "source": [
    "## Identification par Optimisation Bayesienne"
   ]
  },
  {
   "cell_type": "markdown",
   "id": "203016bb",
   "metadata": {},
   "source": [
    "Comme précisé plus haut, cette partie vise à résoudre le problème d'identification via une approche bayesienne. Pour ce faire, nous allons nous appuyer sur le package python scikit-optimize (https://scikit-optimize.github.io/stable/)."
   ]
  },
  {
   "cell_type": "code",
   "execution_count": null,
   "id": "082daf61",
   "metadata": {},
   "outputs": [],
   "source": [
    "from skopt import gp_minimize\n",
    "from skopt.plots import plot_gaussian_process, plot_convergence"
   ]
  },
  {
   "cell_type": "markdown",
   "id": "72ebd527",
   "metadata": {},
   "source": [
    "### Premier Essai"
   ]
  },
  {
   "cell_type": "markdown",
   "id": "d2f14564",
   "metadata": {},
   "source": [
    "Nous travaillons toujours avec la même fonction objectif utilisée dans la première partie du TP. On va considérer de plus les bornes suivantes:\n",
    "- $200 \\leq a1 \\leq 300$\n",
    "- $3000 \\leq a2 \\leq 4500$\n",
    "- $1 \\leq a3 \\leq 3$\n",
    "- $1e4 \\leq a4 \\leq 2e4$\n",
    "- $-5e3 \\leq a5 \\leq -2e3$\n",
    "\n",
    "La fonction d'acquisition qui sera utilisée dans un premier temps est l'amélioration espérée (Expected Improvement). Nous fixerons le nombre d'appels à la fonction coût originale à 100. Enfin, on utilise un plan de type LHS avec 50 points pour construire le modèle de krigeage avant la permière minimisation de la fonction d'acquisition.\n",
    "\n",
    "A l'aide de la documentation du package scikit-optimize, implémenter cette première tentative d'optimisation bayesienne et visualiser le graphe de convergence. A-t-on le même niveau de convergence qu'observé dans la première section du TP? Comment pourrait-on améliorer la convergence?"
   ]
  },
  {
   "cell_type": "code",
   "execution_count": null,
   "id": "e6817545",
   "metadata": {},
   "outputs": [],
   "source": [
    "# Fonction permettant de calculer la fonction coût au format attendu par scikit-optimize\n",
    "# Entrées: paramètres à optimiser\n",
    "# Return: la valeur du critère à optimiser \n",
    "\n"
   ]
  },
  {
   "cell_type": "code",
   "execution_count": null,
   "id": "6e5493c6",
   "metadata": {},
   "outputs": [],
   "source": [
    "# Définition des bornes\n"
   ]
  },
  {
   "cell_type": "code",
   "execution_count": null,
   "id": "693d6fe3",
   "metadata": {},
   "outputs": [],
   "source": [
    "# Estimation des paramètres par optimisation bayesienne\n",
    "\n"
   ]
  },
  {
   "cell_type": "code",
   "execution_count": null,
   "id": "6f7dc1a4",
   "metadata": {},
   "outputs": [],
   "source": [
    "# Affichage de l'évolution de la fonction coût au fil des itérations via la fonction \"plot_convergence\" de scikit-optimize\n",
    "\n"
   ]
  },
  {
   "cell_type": "markdown",
   "id": "c069847a",
   "metadata": {},
   "source": [
    "### Amélioration de la configuration de l'algorithme"
   ]
  },
  {
   "cell_type": "markdown",
   "id": "fd41117b",
   "metadata": {},
   "source": [
    "Essayer différents nombres de points d'évaluation et les fonctions d'acquisition PI et LCB pour tenter d'améliorer le paramétrage de l'algorithme. A partir de l'analyse des graphiques de convergence et de fonctions d'acquisition, quelle est la configuration la plus efficiente?"
   ]
  },
  {
   "cell_type": "code",
   "execution_count": null,
   "id": "a39a47a5",
   "metadata": {},
   "outputs": [],
   "source": [
    "# Tests et évaluation avec différentes options du solver\n",
    "\n",
    "\n",
    "\n"
   ]
  }
 ],
 "metadata": {
  "kernelspec": {
   "display_name": "gmm_common_env",
   "language": "python",
   "name": "gmm_common_env"
  },
  "language_info": {
   "codemirror_mode": {
    "name": "ipython",
    "version": 3
   },
   "file_extension": ".py",
   "mimetype": "text/x-python",
   "name": "python",
   "nbconvert_exporter": "python",
   "pygments_lexer": "ipython3",
   "version": "3.7.11"
  },
  "toc": {
   "base_numbering": 1,
   "nav_menu": {},
   "number_sections": true,
   "sideBar": true,
   "skip_h1_title": false,
   "title_cell": "Table of Contents",
   "title_sidebar": "Contents",
   "toc_cell": false,
   "toc_position": {},
   "toc_section_display": true,
   "toc_window_display": true
  },
  "varInspector": {
   "cols": {
    "lenName": 16,
    "lenType": 16,
    "lenVar": 40
   },
   "kernels_config": {
    "python": {
     "delete_cmd_postfix": "",
     "delete_cmd_prefix": "del ",
     "library": "var_list.py",
     "varRefreshCmd": "print(var_dic_list())"
    },
    "r": {
     "delete_cmd_postfix": ") ",
     "delete_cmd_prefix": "rm(",
     "library": "var_list.r",
     "varRefreshCmd": "cat(var_dic_list()) "
    }
   },
   "types_to_exclude": [
    "module",
    "function",
    "builtin_function_or_method",
    "instance",
    "_Feature"
   ],
   "window_display": false
  }
 },
 "nbformat": 4,
 "nbformat_minor": 5
}
